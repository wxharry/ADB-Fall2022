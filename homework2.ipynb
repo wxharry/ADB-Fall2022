{
 "cells": [
  {
   "cell_type": "markdown",
   "id": "c2c0ba5b",
   "metadata": {},
   "source": [
    "## HW2 Q1\n",
    "Design a program in your favorite programming language that can generate values based on\n",
    "a fractal probability distribution (70-30 rule). An example function is pseudocode to do this\n",
    "is as follows:\n",
    "\n",
    "```\n",
    "gen(frac, N)\n",
    "begin\n",
    "    p:= random permutation of numbers from 1 to N\n",
    "    outvec:= p // so outvec is of length N\n",
    "    while(|p| > 1)\n",
    "        p:= first frac*|p| elements of p // round down\n",
    "        prepend p to outvec\n",
    "    end while\n",
    "return random permutation of outvec\n",
    "```\n",
    "Here is an example:\n",
    "```\n",
    "|p| is just the size of vector p.\n",
    "so let’s say that p is 7 4 6 2 3 8 1 5\n",
    "|p| = 8\n",
    "Initially outvec is the same as p\n",
    "if frac is 0.5 then the first loop will\n",
    "make p = 7 4 6 2\n",
    "and prepending to outvec = 7 4 6 2 7 4 6 2 3 8 1 5\n",
    "After the second iteration,\n",
    "p = 7 4\n",
    "and prepend to outvec\n",
    "7 4 7 4 6 2 7 4 6 2 3 8 1 5\n",
    "Finally after the last iteration\n",
    "outvec = 7 7 4 7 4 6 2 7 4 6 2 3 8 1 5\n",
    "```"
   ]
  },
  {
   "cell_type": "code",
   "execution_count": 113,
   "id": "a83b3b26",
   "metadata": {},
   "outputs": [
    {
     "name": "stdout",
     "output_type": "stream",
     "text": [
      "15 stock symbols generated.\n",
      "generate csv file for data\n"
     ]
    }
   ],
   "source": [
    "from random import shuffle, randint\n",
    "from math import floor\n",
    "import pandas as pd\n",
    "\n",
    "def gen(frac, N):\n",
    "    p = list(range(1, N+1))\n",
    "    shuffle(p)\n",
    "    outvec = p\n",
    "    while len(p) > 1:\n",
    "        p = p[:floor(frac * len(p))]\n",
    "        outvec = p + outvec\n",
    "    shuffle(outvec)\n",
    "    return outvec\n",
    "\n",
    "\n",
    "def gen_data(vec):\n",
    "    last_price = {}\n",
    "    final_data = []\n",
    "    quantities_range = [100, 10000]\n",
    "    prices_range = [50, 500]\n",
    "    prices_delta = [1, 5]\n",
    "    for tick, num in enumerate(vec):\n",
    "        stocksymbol = 's' + str(num)\n",
    "        time = tick + 1\n",
    "        quantity = randint(quantities_range[0], quantities_range[1])\n",
    "        if last_price.get(stocksymbol):\n",
    "            price = last_price[stocksymbol] + randint(prices_delta[0], prices_delta[1])\n",
    "            while price + vec[tick+1:].count(num) > prices_range[1]:\n",
    "                price = last_price[stocksymbol] + randint(prices_delta[0], prices_delta[1])\n",
    "        else:\n",
    "            price = randint(prices_range[0], prices_range[1])\n",
    "            while price + vec[tick+1:].count(num) > prices_range[1]:\n",
    "                price = randint(prices_range[0], prices_range[1])\n",
    "        last_price[stocksymbol] = price\n",
    "        final_data.append([stocksymbol, time, quantity, price])\n",
    "    return final_data\n",
    "\n",
    "stock_symbols = gen(0.5, 8)\n",
    "# stock_symbols = gen(0.3, 70002)\n",
    "print(f\"{len(stock_symbols)} stock symbols generated.\")\n",
    "\n",
    "data = gen_data(stock_symbols)\n",
    "\n",
    "df = pd.DataFrame(data, columns=['stocksymbol', 'time', 'quantity', 'price'])\n",
    "\n",
    "df.to_csv(\"data_dev.csv\", index=False)\n",
    "print(\"generate csv file for data\")\n"
   ]
  },
  {
   "cell_type": "code",
   "execution_count": null,
   "id": "59ffae5c",
   "metadata": {},
   "outputs": [],
   "source": []
  }
 ],
 "metadata": {
  "kernelspec": {
   "display_name": "Python 3 (ipykernel)",
   "language": "python",
   "name": "python3"
  },
  "language_info": {
   "codemirror_mode": {
    "name": "ipython",
    "version": 3
   },
   "file_extension": ".py",
   "mimetype": "text/x-python",
   "name": "python",
   "nbconvert_exporter": "python",
   "pygments_lexer": "ipython3",
   "version": "3.10.8"
  }
 },
 "nbformat": 4,
 "nbformat_minor": 5
}
