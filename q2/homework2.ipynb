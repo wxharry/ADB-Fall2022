{
 "cells": [
  {
   "cell_type": "markdown",
   "id": "04c627e0",
   "metadata": {},
   "source": [
    "## HW2 Q2\n",
    "Design a program in your favorite programming language that can generate values based on\n",
    "a uniform probability distribution . "
   ]
  },
  {
   "cell_type": "code",
   "execution_count": 4,
   "id": "f77a1554",
   "metadata": {},
   "outputs": [
    {
     "name": "stdout",
     "output_type": "stream",
     "text": [
      "70002 stock symbols generated.\n",
      "generate csv file for data\n"
     ]
    }
   ],
   "source": [
    "from random import shuffle, randint\n",
    "from math import floor\n",
    "import pandas as pd\n",
    "\n",
    "def gen_uniform( N):\n",
    "    p = list(range(1, N+1))\n",
    "    shuffle(p)\n",
    "    outvec = p\n",
    "#     while len(p) > 1:\n",
    "#         p = p[:floor(frac * len(p))]\n",
    "#         outvec = p + outvec\n",
    "#     shuffle(outvec)\n",
    "    return outvec\n",
    "\n",
    "\n",
    "def gen_data(vec):\n",
    "    last_price = {}\n",
    "    final_data = []\n",
    "    quantities_range = [100, 10000]\n",
    "    prices_range = [50, 500]\n",
    "    prices_delta = [1, 5]\n",
    "    for tick, num in enumerate(vec):\n",
    "        stocksymbol = 's' + str(num)\n",
    "        time = tick + 1\n",
    "        quantity = randint(quantities_range[0], quantities_range[1])\n",
    "        if last_price.get(stocksymbol):\n",
    "            price = prices_range[0] - 1\n",
    "            while price < prices_range[0] or price > prices_range[1] or price == last_price[stocksymbol]:\n",
    "                price = last_price[stocksymbol] + randint(- prices_delta[1], prices_delta[1])\n",
    "        else:\n",
    "            price = prices_range[0] - 1\n",
    "            while price < prices_range[0] or price > prices_range[1]:\n",
    "                price = randint(prices_range[0], prices_range[1])\n",
    "        last_price[stocksymbol] = price\n",
    "        final_data.append([stocksymbol, time, quantity, price])\n",
    "    return final_data\n",
    "\n",
    "# stock_symbols = gen(0.5, 8)\n",
    "stock_symbols = gen_uniform(70002)\n",
    "print(f\"{len(stock_symbols)} stock symbols generated.\")\n",
    "\n",
    "data = gen_data(stock_symbols)\n",
    "\n",
    "df = pd.DataFrame(data, columns=['stocksymbol', 'time', 'quantity', 'price'])\n",
    "\n",
    "\n",
    "df.to_csv(\"trade_uniform.csv\", index=False)\n",
    "print(\"generate csv file for data\")\n"
   ]
  },
  {
   "cell_type": "code",
   "execution_count": null,
   "id": "be2a5a13",
   "metadata": {},
   "outputs": [],
   "source": []
  }
 ],
 "metadata": {
  "kernelspec": {
   "display_name": "Python 3 (ipykernel)",
   "language": "python",
   "name": "python3"
  },
  "language_info": {
   "codemirror_mode": {
    "name": "ipython",
    "version": 3
   },
   "file_extension": ".py",
   "mimetype": "text/x-python",
   "name": "python",
   "nbconvert_exporter": "python",
   "pygments_lexer": "ipython3",
   "version": "3.7.7"
  }
 },
 "nbformat": 4,
 "nbformat_minor": 5
}
